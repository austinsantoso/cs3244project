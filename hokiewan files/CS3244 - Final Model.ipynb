{
 "cells": [
  {
   "cell_type": "code",
   "execution_count": 1,
   "metadata": {},
   "outputs": [
    {
     "name": "stderr",
     "output_type": "stream",
     "text": [
      "Using TensorFlow backend.\n"
     ]
    }
   ],
   "source": [
    "import pandas as pd\n",
    "import numpy as np\n",
    "from keras.preprocessing.image import ImageDataGenerator \n",
    "from keras.utils import to_categorical\n",
    "from keras.models import Sequential\n",
    "from keras.models import model_from_json\n",
    "from keras.layers import Dense, Dropout, Flatten, Conv2D, MaxPooling2D, BatchNormalization"
   ]
  },
  {
   "cell_type": "code",
   "execution_count": 2,
   "metadata": {},
   "outputs": [],
   "source": [
    "sl_train=pd.read_csv('sign_mnist_train.csv')\n",
    "sl_test=pd.read_csv('sign_mnist_test.csv')\n",
    "\n",
    "X_train=np.array(sl_train.iloc[:,1:])\n",
    "y_train=to_categorical(np.array(sl_train.iloc[:,0]))\n",
    "X_test=np.array(sl_test.iloc[:,1:])\n",
    "y_test=to_categorical(np.array(sl_test.iloc[:,0]))\n",
    "\n",
    "X_train = X_train.reshape(X_train.shape[0], 28, 28, 1)\n",
    "X_train = X_train.astype('float32')\n",
    "#X_train /= 255\n",
    "\n",
    "X_test = X_test.reshape(X_test.shape[0], 28, 28, 1)\n",
    "X_test = X_test.astype('float32')\n",
    "X_test /= 255"
   ]
  },
  {
   "cell_type": "code",
   "execution_count": 3,
   "metadata": {},
   "outputs": [],
   "source": [
    "datagen=ImageDataGenerator(rotation_range=30,zoom_range=0.2,rescale=1./255)"
   ]
  },
  {
   "cell_type": "code",
   "execution_count": 4,
   "metadata": {},
   "outputs": [],
   "source": [
    "test_sb=pd.read_csv('shrinkthenblackalldata.csv')\n",
    "test_bs=pd.read_csv('blackthenshrinkALLDATA.csv')"
   ]
  },
  {
   "cell_type": "code",
   "execution_count": 5,
   "metadata": {},
   "outputs": [],
   "source": [
    "x_test_sb=test_sb.drop(columns=['file name','expected output','expected output num'])\n",
    "x_test_bs=test_bs.drop(columns=['file name','expected output','expected output num'])\n",
    "\n",
    "y_test_sb=to_categorical(np.array(test_sb['expected output num'].iloc[:]))\n",
    "y_test_bs=to_categorical(np.array(test_bs['expected output num'].iloc[:]))\n",
    "\n",
    "x_test_sb=np.array(x_test_sb.iloc[:,:])\n",
    "x_test_bs=np.array(x_test_bs.iloc[:,:])\n",
    "\n",
    "x_test_sb = x_test_sb.reshape(x_test_sb.shape[0], 28, 28, 1)\n",
    "x_test_sb = x_test_sb.astype('float32')\n",
    "x_test_sb /= 255\n",
    "\n",
    "x_test_bs = x_test_bs.reshape(x_test_bs.shape[0], 28, 28, 1)\n",
    "x_test_bs = x_test_bs.astype('float32')\n",
    "x_test_bs /= 255"
   ]
  },
  {
   "cell_type": "code",
   "execution_count": 6,
   "metadata": {},
   "outputs": [
    {
     "name": "stdout",
     "output_type": "stream",
     "text": [
      "Epoch 1/10\n",
      "858/858 [==============================] - 43s 50ms/step - loss: 1.1449 - accuracy: 0.6528 - val_loss: 4.1330 - val_accuracy: 0.1538\n",
      "Epoch 2/10\n",
      "858/858 [==============================] - 42s 49ms/step - loss: 0.4097 - accuracy: 0.8643 - val_loss: 5.3544 - val_accuracy: 0.1731\n",
      "Epoch 3/10\n",
      "858/858 [==============================] - 48s 56ms/step - loss: 0.2816 - accuracy: 0.9058 - val_loss: 7.4286 - val_accuracy: 0.1474\n",
      "Epoch 4/10\n",
      "858/858 [==============================] - 45s 53ms/step - loss: 0.2076 - accuracy: 0.9321 - val_loss: 6.1968 - val_accuracy: 0.1603\n",
      "Epoch 5/10\n",
      "858/858 [==============================] - 47s 54ms/step - loss: 0.1753 - accuracy: 0.9412 - val_loss: 5.5555 - val_accuracy: 0.2051\n",
      "Epoch 6/10\n",
      "858/858 [==============================] - 47s 55ms/step - loss: 0.1510 - accuracy: 0.9487 - val_loss: 4.7799 - val_accuracy: 0.1538\n",
      "Epoch 7/10\n",
      "858/858 [==============================] - 48s 56ms/step - loss: 0.1355 - accuracy: 0.9544 - val_loss: 5.5723 - val_accuracy: 0.1603\n",
      "Epoch 8/10\n",
      "858/858 [==============================] - 49s 57ms/step - loss: 0.1233 - accuracy: 0.9587 - val_loss: 6.8244 - val_accuracy: 0.2244\n",
      "Epoch 9/10\n",
      "858/858 [==============================] - 47s 55ms/step - loss: 0.1162 - accuracy: 0.9614 - val_loss: 5.4853 - val_accuracy: 0.2051\n",
      "Epoch 10/10\n",
      "858/858 [==============================] - 48s 56ms/step - loss: 0.1021 - accuracy: 0.9643 - val_loss: 5.7957 - val_accuracy: 0.2756\n"
     ]
    },
    {
     "data": {
      "text/plain": [
       "<keras.callbacks.callbacks.History at 0x1518cb190>"
      ]
     },
     "execution_count": 6,
     "metadata": {},
     "output_type": "execute_result"
    }
   ],
   "source": [
    "cnn=Sequential()\n",
    "\n",
    "cnn.add(Conv2D(32,kernel_size=(3,3),activation='relu',\n",
    "               input_shape=(28,28,1),padding='same'))\n",
    "cnn.add(Conv2D(32,kernel_size=(3,3),activation='relu'))\n",
    "cnn.add(BatchNormalization())\n",
    "cnn.add(MaxPooling2D(pool_size=(2,2)))\n",
    "cnn.add(Dropout(0.25))\n",
    "\n",
    "cnn.add(Flatten())\n",
    "\n",
    "cnn.add(Dense(256,activation='relu'))\n",
    "cnn.add(BatchNormalization())\n",
    "cnn.add(Dropout(0.5))\n",
    "\n",
    "cnn.add(Dense(25,activation='softmax'))\n",
    "cnn.compile(loss='categorical_crossentropy',optimizer='adam',\n",
    "            metrics=['accuracy'])\n",
    "cnn.fit_generator(datagen.flow(X_train,y_train,batch_size=32),\n",
    "                  validation_data=(x_test_bs,y_test_bs),epochs=10)"
   ]
  },
  {
   "cell_type": "code",
   "execution_count": 7,
   "metadata": {},
   "outputs": [
    {
     "name": "stdout",
     "output_type": "stream",
     "text": [
      "Model: \"sequential_1\"\n",
      "_________________________________________________________________\n",
      "Layer (type)                 Output Shape              Param #   \n",
      "=================================================================\n",
      "conv2d_1 (Conv2D)            (None, 28, 28, 32)        320       \n",
      "_________________________________________________________________\n",
      "conv2d_2 (Conv2D)            (None, 26, 26, 32)        9248      \n",
      "_________________________________________________________________\n",
      "batch_normalization_1 (Batch (None, 26, 26, 32)        128       \n",
      "_________________________________________________________________\n",
      "max_pooling2d_1 (MaxPooling2 (None, 13, 13, 32)        0         \n",
      "_________________________________________________________________\n",
      "dropout_1 (Dropout)          (None, 13, 13, 32)        0         \n",
      "_________________________________________________________________\n",
      "flatten_1 (Flatten)          (None, 5408)              0         \n",
      "_________________________________________________________________\n",
      "dense_1 (Dense)              (None, 256)               1384704   \n",
      "_________________________________________________________________\n",
      "batch_normalization_2 (Batch (None, 256)               1024      \n",
      "_________________________________________________________________\n",
      "dropout_2 (Dropout)          (None, 256)               0         \n",
      "_________________________________________________________________\n",
      "dense_2 (Dense)              (None, 25)                6425      \n",
      "=================================================================\n",
      "Total params: 1,401,849\n",
      "Trainable params: 1,401,273\n",
      "Non-trainable params: 576\n",
      "_________________________________________________________________\n"
     ]
    }
   ],
   "source": [
    "cnn.summary()"
   ]
  },
  {
   "cell_type": "code",
   "execution_count": 8,
   "metadata": {},
   "outputs": [],
   "source": [
    "model_json = cnn.to_json()\n",
    "with open(\"sl_model.json\", \"w\") as json_file:\n",
    "    json_file.write(model_json)\n",
    "cnn.save_weights(\"sl_model.h5\")"
   ]
  }
 ],
 "metadata": {
  "kernelspec": {
   "display_name": "Python 3",
   "language": "python",
   "name": "python3"
  },
  "language_info": {
   "codemirror_mode": {
    "name": "ipython",
    "version": 3
   },
   "file_extension": ".py",
   "mimetype": "text/x-python",
   "name": "python",
   "nbconvert_exporter": "python",
   "pygments_lexer": "ipython3",
   "version": "3.7.4"
  }
 },
 "nbformat": 4,
 "nbformat_minor": 2
}
