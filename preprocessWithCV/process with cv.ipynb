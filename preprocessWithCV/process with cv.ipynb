{
 "cells": [
  {
   "cell_type": "code",
   "execution_count": null,
   "metadata": {},
   "outputs": [],
   "source": [
    "import os\n",
    "import cv2\n",
    "import numpy as np\n",
    "from string import ascii_uppercase"
   ]
  },
  {
   "cell_type": "code",
   "execution_count": null,
   "metadata": {},
   "outputs": [],
   "source": [
    "characters=[c for c in ascii_uppercase if c not in \"JZ\"]\n",
    "nrows=100\n",
    "ncolumns=100"
   ]
  },
  {
   "cell_type": "code",
   "execution_count": null,
   "metadata": {},
   "outputs": [],
   "source": [
    "train=[]\n",
    "val=[]\n",
    "for c in characters:\n",
    "    train_dir='./train/'+c\n",
    "    train_dir_img=train_dir+'/{}'\n",
    "\n",
    "    train+=[train_dir_img.format(i) for i in os.listdir(train_dir)]\n",
    "    train=[f for f in train if not f.endswith('DS_Store')]\n",
    "\n",
    "for c in characters:\n",
    "    val_dir='./val/'+c\n",
    "    val_dir_img=val_dir+'/{}'\n",
    "\n",
    "    val+=[val_dir_img.format(i) for i in os.listdir(val_dir)]\n",
    "    val=[f for f in val if not f.endswith('DS_Store')]\n",
    "\n",
    "test_dir='./test/test'\n",
    "test_dir_img=test_dir+'/{}'\n",
    "\n",
    "test=[test_dir_img.format(i) for i in os.listdir(test_dir)]\n",
    "test=[f for f in test if not f.endswith('DS_Store')]"
   ]
  },
  {
   "cell_type": "code",
   "execution_count": null,
   "metadata": {},
   "outputs": [],
   "source": [
    "def process(list_of_images, subset): \n",
    "    lower = 100\n",
    "    upper = 125\n",
    "    \n",
    "    counter=np.zeros(26,np.int16)\n",
    "    for image in list_of_images:\n",
    "        img = cv2.imread(image,cv2.IMREAD_COLOR)\n",
    "        img = cv2.resize(img, (nrows, ncolumns), interpolation=cv2.INTER_CUBIC)\n",
    "        blur_img = cv2.GaussianBlur(img,(3,3),0)      \n",
    "        edge = cv2.Canny(blur_img,lower,upper)\n",
    "        \n",
    "        for c in characters:\n",
    "            if c in image:\n",
    "                name = './'+subset+'-edge/'+c+str(counter[ord(c)-ord('A')])+'.png'\n",
    "                print(name)\n",
    "                cv2.imwrite(name,edge)\n",
    "                counter[ord(c)-ord('A')]+=1\n",
    "\n",
    "    return 0"
   ]
  },
  {
   "cell_type": "code",
   "execution_count": null,
   "metadata": {},
   "outputs": [],
   "source": [
    "process(train, 'train')\n",
    "process(val, 'val')\n",
    "process(test, 'test')"
   ]
  }
 ],
 "metadata": {
  "kernelspec": {
   "display_name": "Python 3",
   "language": "python",
   "name": "python3"
  },
  "language_info": {
   "codemirror_mode": {
    "name": "ipython",
    "version": 3
   },
   "file_extension": ".py",
   "mimetype": "text/x-python",
   "name": "python",
   "nbconvert_exporter": "python",
   "pygments_lexer": "ipython3",
   "version": "3.7.4"
  }
 },
 "nbformat": 4,
 "nbformat_minor": 2
}
